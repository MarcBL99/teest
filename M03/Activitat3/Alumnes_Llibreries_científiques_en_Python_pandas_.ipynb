{
  "cells": [
    {
      "cell_type": "markdown",
      "id": "2bb3958f",
      "metadata": {
        "id": "2bb3958f"
      },
      "source": [
        "# Llibreries científiques en Python - pandas"
      ]
    },
    {
      "cell_type": "markdown",
      "id": "35efa36d",
      "metadata": {
        "id": "35efa36d"
      },
      "source": [
        "## Series"
      ]
    },
    {
      "cell_type": "markdown",
      "id": "8a522e84",
      "metadata": {
        "id": "8a522e84"
      },
      "source": [
        "Una sèrie és un vector unidimensional amb etiquetes als eixos i\n",
        "dades homogènies.Repassem què impliquen cadascuna d'aquestes característiques amb uns\n",
        "exemples.La sèrie ens permet representar un conjunt de dades unidimensionals,\n",
        "per exemple, una llista d'enters, decimals o de cadenes de caràcters:"
      ]
    },
    {
      "cell_type": "code",
      "execution_count": 3,
      "id": "757a4851",
      "metadata": {},
      "outputs": [
        {
          "name": "stdout",
          "output_type": "stream",
          "text": [
            "20\n",
            "[2, 3, 7, 8, 3, 4, 5, 6]\n",
            "0    3\n",
            "1    4\n",
            "2    5\n",
            "3    6\n",
            "dtype: int64\n"
          ]
        }
      ],
      "source": [
        "import pandas as pd\n",
        "listaNumeros = [2,3,7,8]\n",
        "listaNumerosAd=[3,4,5,6]\n",
        "\n",
        "serieNum = pd.Series([2,3,4,5])\n",
        "type(serieNum)\n",
        "\n",
        "serieNum2 = pd.Series([1,1,1,1])\n",
        "print(sum(listaNumeros))\n",
        "print(listaNumeros + listaNumerosAd)\n",
        "print(serieNum + serieNum2)"
      ]
    },
    {
      "cell_type": "markdown",
      "id": "uudg6SDYWtuC",
      "metadata": {
        "id": "uudg6SDYWtuC"
      },
      "source": [
        "## DataFrames\n",
        "\n",
        "Un dataframe és una taula bidimensional amb etiquetes als eixos\n",
        "i dades potencialment heterogènies. El dataframe és l' estructura\n",
        "principal de treball amb la llibreria pandas.A diferència d'una sèrie, un dataframe és bidimensional:"
      ]
    },
    {
      "cell_type": "code",
      "execution_count": 11,
      "id": "0d31774e",
      "metadata": {},
      "outputs": [
        {
          "name": "stdout",
          "output_type": "stream",
          "text": [
            "       year subject  average\n",
            "Marc   2019     M03        9\n",
            "Marc   2019     M02       27\n",
            "David  2019     M01       -2\n"
          ]
        }
      ],
      "source": [
        "subject = [[2019,\"M03\", 9],[2019,\"M02\", 27],[2019,\"M01\", -2]]\n",
        "print(pd.DataFrame(subject,columns=[\"year\",\"subject\",\"average\"],index= [\"Marc\",\"Marc\",\"David\"]))"
      ]
    },
    {
      "cell_type": "markdown",
      "id": "u-PvqWp1BpPF",
      "metadata": {
        "id": "u-PvqWp1BpPF"
      },
      "source": [
        "### Operacions bàsiques - DataFrame"
      ]
    },
    {
      "cell_type": "markdown",
      "id": "5c_ESMJ7CTdW",
      "metadata": {
        "id": "5c_ESMJ7CTdW"
      },
      "source": [
        "#### Lectura sobre Fitxer\n",
        "\n",
        "Pandas ens permet carregar les dades d'un fitxer CSV directament a un dataframe a través de la funció read_csv.\n",
        "\n",
        "Ara carregarem les dades del fitxer [marvel-wikia-data.csv](https://github.com/fivethirtyeight/data/tree/master/comic-characters) \n",
        "\n"
      ]
    },
    {
      "cell_type": "code",
      "execution_count": 25,
      "id": "5bfcf7fd",
      "metadata": {},
      "outputs": [],
      "source": [
        "dataMarvel = pd.read_csv(\"marvel-wikia-data.csv\")\n",
        "#dataMarvel.shape\n",
        "#dataMarvel.describe()\n",
        "#len(dataMarvel)\n",
        "#dataMarvel.dtypes\n",
        "#dataMarvel[\"APPEARANCES\"].describe()\n",
        "#print(dataMarvel[\"name\"][69:73])\n",
        "#dataMarvel.loc[[20,25],[\"name\"]]\n",
        "hombres = dataMarvel[dataMarvel.SEX == \"Male Characters\"]\n",
        "fregonas = dataMarvel[dataMarvel[\"SEX\"] == \"Female Characters\"]\n",
        "#print(len(hombres))\n",
        "#print(len(fregonas))\n",
        "#idiotas = dataMarvel[(dataMarvel.SEX != \"Male Characters\") & (dataMarvel.SEX != \"Female Characters\")]\n",
        "#print(len(idiotas))\n",
        "#print(fregonas.sort_values(\"APPEARANCES\", ascending=False)[0:3][[\"name\",\"APPEARANCES\"]])\n",
        "#print(dataMarvel[\"SEX\"].unique())\n",
        "#print(dataMarvel[\"SEX\"].isnull())\n",
        "#print(dataMarvel[(dataMarvel.APPEARANCES > 2000) & (dataMarvel.ID == \"Secret Identity\")])\n",
        "#print(dataMarvel.query('APPEARANCES > 1000 and ID == \"Secret Identity\"'))\n",
        "\n",
        "#grouped = dataMarvel.groupby([\"ALIGN\"])\n",
        "#for name,group in grouped:\n",
        "    #print(name, len(group))\n",
        "\n",
        "#grouped.agg({\"APPEARANCES\" : \"mean\"})\n",
        "#print(grouped[\"APPEARANCES\"].mean())\n",
        "\n",
        "new_dataset = dataMarvel[[\"name\",\"ID\",\"HAIR\"]][0:101]\n",
        "new_dataset.to_csv(\"marvel-wikia-data2.csv\", encoding=\"utf-8\")\n",
        "\n"
      ]
    },
    {
      "cell_type": "markdown",
      "id": "FptI6KOXFyLT",
      "metadata": {
        "id": "FptI6KOXFyLT"
      },
      "source": [
        "####  Estadístiques bàsiques"
      ]
    },
    {
      "cell_type": "markdown",
      "id": "9LjtXjwbGUh4",
      "metadata": {
        "id": "9LjtXjwbGUh4"
      },
      "source": [
        "#### Selecció de dades"
      ]
    },
    {
      "cell_type": "markdown",
      "id": "gjPdZRkJZy5w",
      "metadata": {
        "id": "gjPdZRkJZy5w"
      },
      "source": [
        "#### Agregació de dades"
      ]
    },
    {
      "cell_type": "markdown",
      "id": "sUFyuu6CM37C",
      "metadata": {
        "id": "sUFyuu6CM37C"
      },
      "source": [
        "#### Exportar a CSV"
      ]
    },
    {
      "cell_type": "markdown",
      "id": "dL7l7AkZ-inu",
      "metadata": {
        "id": "dL7l7AkZ-inu"
      },
      "source": [
        "### Visualitzacions de DataFrame"
      ]
    },
    {
      "cell_type": "markdown",
      "id": "JZv-ryBXAOR4",
      "metadata": {
        "id": "JZv-ryBXAOR4"
      },
      "source": [
        "Aprofitant el dataFrame anterior realitzarme una serie de visualitzacions les quals ens ajudaran a extreure conclusions de diferents anàlisis"
      ]
    },
    {
      "cell_type": "markdown",
      "id": "4J2tRFWrAlES",
      "metadata": {
        "id": "4J2tRFWrAlES"
      },
      "source": [
        "#### Bar chart\n",
        "\n",
        "Pasem a analitzar els 10 personatges que més apareixen als còmics de marvel:"
      ]
    },
    {
      "cell_type": "markdown",
      "id": "GdBiJInNB-xS",
      "metadata": {
        "id": "GdBiJInNB-xS"
      },
      "source": [
        "#### Line Bar\n",
        "\n",
        "Com han variat les creacions dels personatges durant els anys:"
      ]
    },
    {
      "cell_type": "markdown",
      "id": "cHXu5D5QEovl",
      "metadata": {
        "id": "cHXu5D5QEovl"
      },
      "source": [
        "#### Histograma\n",
        "\n",
        "Veiem la distribució respecte els anys"
      ]
    },
    {
      "cell_type": "markdown",
      "id": "5b3Ji3dTE2O3",
      "metadata": {
        "id": "5b3Ji3dTE2O3"
      },
      "source": [
        "#### Scatter plot"
      ]
    },
    {
      "cell_type": "markdown",
      "id": "wH5t4RVAUP1j",
      "metadata": {
        "id": "wH5t4RVAUP1j"
      },
      "source": [
        "## ACTIVITAT\n",
        "\n",
        "Analitzarem els incendis al brasil entre l'any 1998 i el 2007. https://www.kaggle.com/datasets/gustavomodelli/forest-fires-in-brazil"
      ]
    },
    {
      "cell_type": "markdown",
      "id": "-2Xx3HbVUf8Q",
      "metadata": {
        "id": "-2Xx3HbVUf8Q"
      },
      "source": [
        "\n",
        "Carregueu les dades de l'arxiu amazon.csv , que podeu trobar a la carpeta data, en un dataframe. Aquest conjunt de dades recull informació sobre el nombre d'incendis en boscos a Brasil entre el 1998 i el 2017.  Mostreu el número de files del dataframe i els noms de les columnes."
      ]
    },
    {
      "cell_type": "code",
      "execution_count": 46,
      "id": "MjFc9tEdUjhL",
      "metadata": {
        "id": "MjFc9tEdUjhL"
      },
      "outputs": [
        {
          "name": "stdout",
          "output_type": "stream",
          "text": [
            "      year      state     month  number        date\n",
            "0     1998       Acre   Janeiro     0.0  1998-01-01\n",
            "1     1999       Acre   Janeiro     0.0  1999-01-01\n",
            "2     2000       Acre   Janeiro     0.0  2000-01-01\n",
            "3     2001       Acre   Janeiro     0.0  2001-01-01\n",
            "4     2002       Acre   Janeiro     0.0  2002-01-01\n",
            "...    ...        ...       ...     ...         ...\n",
            "6449  2012  Tocantins  Dezembro   128.0  2012-01-01\n",
            "6450  2013  Tocantins  Dezembro    85.0  2013-01-01\n",
            "6451  2014  Tocantins  Dezembro   223.0  2014-01-01\n",
            "6452  2015  Tocantins  Dezembro   373.0  2015-01-01\n",
            "6453  2016  Tocantins  Dezembro   119.0  2016-01-01\n",
            "\n",
            "[6454 rows x 5 columns]\n"
          ]
        }
      ],
      "source": [
        "dataAmazon = pd.read_csv(\"amazon.csv\")\n",
        "print(dataAmazon)"
      ]
    },
    {
      "cell_type": "markdown",
      "id": "_l4bamJ6Vd2-",
      "metadata": {
        "id": "_l4bamJ6Vd2-"
      },
      "source": [
        "Agrupeu les dades carregades a l'exercici 1 per any i, per cada any, mostreu el nombre total d'incendis que hi va haver en tot el país."
      ]
    },
    {
      "cell_type": "code",
      "execution_count": 84,
      "id": "n551qWyjVenV",
      "metadata": {
        "id": "n551qWyjVenV"
      },
      "outputs": [
        {
          "name": "stdout",
          "output_type": "stream",
          "text": [
            "12956158\n"
          ]
        }
      ],
      "source": [
        "totalIncendisAny= dataAmazon.groupby(\"year\")[\"number\"].sum()\n",
        "\n",
        "print(totalIncendisAny)"
      ]
    },
    {
      "cell_type": "markdown",
      "id": "8Rd7JVChHv7z",
      "metadata": {
        "id": "8Rd7JVChHv7z"
      },
      "source": [
        "Mostra gràficament la lína temporal del nombre d'incendis al brasil durant els darrers anys"
      ]
    },
    {
      "cell_type": "code",
      "execution_count": 77,
      "id": "2f2jP4U6H-dO",
      "metadata": {
        "id": "2f2jP4U6H-dO"
      },
      "outputs": [
        {
          "data": {
            "image/png": "[encoded data removed]",
            "text/plain": [
              "<Figure size 640x480 with 1 Axes>"
            ]
          },
          "metadata": {},
          "output_type": "display_data"
        }
      ],
      "source": [
        "totalIncendisAny.plot(kind=\"bar\")\n",
        "\n",
        "plt.title(\"Incendis per any\")\n",
        "plt.show()"
      ]
    },
    {
      "cell_type": "markdown",
      "id": "K2o-M6h6I7df",
      "metadata": {
        "id": "K2o-M6h6I7df"
      },
      "source": [
        "Mostreu gràficament la suma total d'incendis per mes per detectar els mesos on es produeixen més incendis per mes\n",
        "\n"
      ]
    },
    {
      "cell_type": "code",
      "execution_count": 72,
      "id": "yM02dAUQJM6N",
      "metadata": {
        "id": "yM02dAUQJM6N"
      },
      "outputs": [
        {
          "name": "stdout",
          "output_type": "stream",
          "text": [
            "              year     number\n",
            "month                        \n",
            "Abril      1084050  28188.770\n",
            "Agosto     1084050  88050.435\n",
            "Dezembro   1029591  57535.480\n",
            "Fevereiro  1084050  30848.050\n",
            "Janeiro    1086067  47747.844\n",
            "Julho      1084050  92326.113\n",
            "Junho      1084050  56010.675\n",
            "Maio       1084050  34731.363\n",
            "Março      1084050  30717.405\n",
            "Novembro   1084050  85508.054\n",
            "Outubro    1084050  88681.579\n",
            "Setembro   1084050  58578.305\n"
          ]
        },
        {
          "name": "stderr",
          "output_type": "stream",
          "text": [
            "C:\\Users\\marcb\\AppData\\Local\\Temp\\ipykernel_22520\\1140046894.py:1: FutureWarning: The default value of numeric_only in DataFrameGroupBy.sum is deprecated. In a future version, numeric_only will default to False. Either specify numeric_only or select only columns which should be valid for the function.\n",
            "  totalIncendisMes = dataAmazon.groupby(\"month\").sum()\n"
          ]
        }
      ],
      "source": [
        "totalIncendisMes = dataAmazon.groupby(\"month\").sum()\n",
        "\n",
        "print(totalIncendisMes)"
      ]
    },
    {
      "cell_type": "markdown",
      "id": "dr-UdyojJX_W",
      "metadata": {
        "id": "dr-UdyojJX_W"
      },
      "source": [
        "Mostreu també la mitja d'incendis anual, mensual i per estat"
      ]
    },
    {
      "cell_type": "code",
      "execution_count": null,
      "id": "2BZHM2i4JdHs",
      "metadata": {
        "id": "2BZHM2i4JdHs"
      },
      "outputs": [],
      "source": []
    },
    {
      "cell_type": "markdown",
      "id": "kJHXmw0iVfBB",
      "metadata": {
        "id": "kJHXmw0iVfBB"
      },
      "source": [
        "Mostreu els estats de Brasil on van enregistrar més de 800 incendis al mes, comptant els mesos de juny, juliol i agost. Heu de mostrar com a resultat una llista dels estats sense repetir.\n",
        "\n",
        "** La funció unique us pot ser útil"
      ]
    },
    {
      "cell_type": "code",
      "execution_count": null,
      "id": "J3FnjUiTVqlD",
      "metadata": {
        "id": "J3FnjUiTVqlD"
      },
      "outputs": [],
      "source": []
    },
    {
      "cell_type": "markdown",
      "id": "gVlW9rB-IS5U",
      "metadata": {
        "id": "gVlW9rB-IS5U"
      },
      "source": [
        "Mostra  gràficament la distrbució d'incendis per estat durant els mesos de juny, juliol i agost"
      ]
    },
    {
      "cell_type": "code",
      "execution_count": null,
      "id": "C4PbmM_qIvuE",
      "metadata": {
        "id": "C4PbmM_qIvuE"
      },
      "outputs": [],
      "source": []
    },
    {
      "cell_type": "markdown",
      "id": "zEkPSpHwVq0u",
      "metadata": {
        "id": "zEkPSpHwVq0u"
      },
      "source": [
        "Volem buscar aquells estats on durant l'any 2017 van ocórrer més de 800 incendis al mes, durant qualsevol dels mesos de l'any. Heu de mostrar per pantalla l'estat, el mes (o els mesos si la condició es compleix en varis mesos) i el nombre total d'incendis enregistrats en el mes corresponent."
      ]
    },
    {
      "cell_type": "code",
      "execution_count": null,
      "id": "VKF0hKMCV1s8",
      "metadata": {
        "id": "VKF0hKMCV1s8"
      },
      "outputs": [],
      "source": []
    },
    {
      "cell_type": "markdown",
      "id": "3OTe-9dxV3sq",
      "metadata": {
        "id": "3OTe-9dxV3sq"
      },
      "source": [
        "Creeu una còpia del dataframe original per posteriroment exportar-lo a un csv afegint una nova columna que ens indicarà per cada fila el nivell de risc d'aquella fila. Definim tres nivells de risc:\n",
        "high : si s'ha enregistrat una fila amb més de 800 incendis medium : si s'ha enregistrat una fila amb un nombre d'incendis entre 400 i 800low : si s'ha enregistrat una fila amb menys de 400 incendis\n",
        "Mostreu per pantalla aquelles files que corresponguin a un nivell de risc alt ( high )."
      ]
    },
    {
      "cell_type": "code",
      "execution_count": null,
      "id": "pjCZWi7VWExT",
      "metadata": {
        "id": "pjCZWi7VWExT"
      },
      "outputs": [],
      "source": []
    }
  ],
  "metadata": {
    "colab": {
      "collapsed_sections": [
        "518d4e0f",
        "65103d5f",
        "34780f34"
      ],
      "provenance": []
    },
    "kernelspec": {
      "display_name": "Python 3.10.7 64-bit (microsoft store)",
      "language": "python",
      "name": "python3"
    },
    "language_info": {
      "codemirror_mode": {
        "name": "ipython",
        "version": 3
      },
      "file_extension": ".py",
      "mimetype": "text/x-python",
      "name": "python",
      "nbconvert_exporter": "python",
      "pygments_lexer": "ipython3",
      "version": "3.10.7"
    },
    "toc": {
      "base_numbering": 1,
      "nav_menu": {},
      "number_sections": true,
      "sideBar": true,
      "skip_h1_title": false,
      "title_cell": "Table of Contents",
      "title_sidebar": "Contents",
      "toc_cell": false,
      "toc_position": {},
      "toc_section_display": true,
      "toc_window_display": false
    },
    "vscode": {
      "interpreter": {
        "hash": "e68056ac0d9d410a2a552e712fac0c408a82ff41aaf4799122f47cbe0357a83f"
      }
    }
  },
  "nbformat": 4,
  "nbformat_minor": 5
}
