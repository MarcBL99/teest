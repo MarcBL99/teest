{
  "cells": [
    {
      "cell_type": "markdown",
      "id": "2bb3958f",
      "metadata": {
        "id": "2bb3958f"
      },
      "source": [
        "# PYTHON BÀSIC 2/2"
      ]
    },
    {
      "cell_type": "markdown",
      "id": "35efa36d",
      "metadata": {
        "id": "35efa36d"
      },
      "source": [
        "## OPERADORS COMPARATIUS"
      ]
    },
    {
      "cell_type": "markdown",
      "id": "8a522e84",
      "metadata": {
        "id": "8a522e84"
      },
      "source": [
        "* Less than ( < )\n",
        "* Less than or equal to (<=)\n",
        "* Greater than (>)\n",
        "* Greater than or equal to (>=)\n",
        "* Equal to ( == )\n",
        "* Not equal to ( != )\n",
        "\n",
        "[Phyton Operators](https://www.w3schools.com/python/python_operators.asp)"
      ]
    },
    {
      "cell_type": "code",
      "execution_count": null,
      "id": "KxYmrfxdWiY0",
      "metadata": {
        "id": "KxYmrfxdWiY0"
      },
      "outputs": [],
      "source": []
    },
    {
      "cell_type": "markdown",
      "id": "uudg6SDYWtuC",
      "metadata": {
        "id": "uudg6SDYWtuC"
      },
      "source": [
        "## ESTRUCTURES CONDICIONALS - IF, ELSE I ELIF"
      ]
    },
    {
      "cell_type": "markdown",
      "id": "0VtfEt4oXHu_",
      "metadata": {
        "id": "0VtfEt4oXHu_"
      },
      "source": [
        "[Phyton condicionals](https://www.w3schools.com/python/python_conditions.asp)"
      ]
    },
    {
      "cell_type": "markdown",
      "id": "f29STYvgY5YA",
      "metadata": {
        "id": "f29STYvgY5YA"
      },
      "source": [
        "### Activitat 1\n",
        "Un triangle es pot classificar basant-se en les longituds dels seus costats com a equilàter, isòsceles\n",
        "o escala. Els tres costats d'un triangle equilàter tenen la mateixa longitud. Un isòsceles\n",
        "el triangle té dos costats que tenen la mateixa longitud, i un tercer costat que és diferent\n",
        "longitud. Si tots els costats tenen diferents longituds, llavors el triangle és escala.\n",
        "Escriu un programa que llegeixi les longituds de 3 costats d'un triangle de l'usuari.\n",
        "Mostra un missatge que indica el tipus del triangle."
      ]
    },
    {
      "cell_type": "code",
      "execution_count": 5,
      "id": "b24f5e10",
      "metadata": {},
      "outputs": [
        {
          "name": "stdout",
          "output_type": "stream",
          "text": [
            "Es un triangle escale\n"
          ]
        }
      ],
      "source": [
        "costat1= int(input(\"Introdueix llargada del primer costat\"))\n",
        "costat2= int(input(\"Introdueix llargada del segon costat\"))\n",
        "costat3= int(input(\"Introdueix llargada del tercer costat\"))\n",
        "\n",
        "if costat1 == costat2 == costat3:\n",
        "    print(\"Es un triangle equilàter\")\n",
        "if (costat1 == costat2) or (costat2 == costat3) or (costat1 == costat3):\n",
        "    print (\"Es un triangle isosceles\")\n",
        "else:\n",
        "    print(\"Es un triangle escale\")"
      ]
    },
    {
      "cell_type": "markdown",
      "id": "gjPdZRkJZy5w",
      "metadata": {
        "id": "gjPdZRkJZy5w"
      },
      "source": [
        "## ESTRUCTURES RECURSIVES - WHILE FOR"
      ]
    },
    {
      "cell_type": "markdown",
      "id": "gaSCebaiVb-x",
      "metadata": {
        "id": "gaSCebaiVb-x"
      },
      "source": [
        "[Phyton While](https://www.w3schools.com/python/python_while_loops.asp)\n",
        "\n",
        "[Phyton For](https://www.w3schools.com/python/python_for_loops.asp)"
      ]
    },
    {
      "cell_type": "markdown",
      "id": "IAi6NgYTa5qi",
      "metadata": {
        "id": "IAi6NgYTa5qi"
      },
      "source": [
        "### Activitat 1\n",
        "Escriu un programa que converteix un nombre binari (base 2) en decimal (base 10). El teu\n",
        "el programa ha de començar llegint el nombre binari de l'usuari com a cadena. Llavors\n",
        "hauria de calcular el nombre decimal equivalent processant cada dígit en el\n",
        "número binari. Finalment, el vostre programa hauria de mostrar el nombre decimal equivalent\n",
        "amb un missatge adequat."
      ]
    },
    {
      "cell_type": "code",
      "execution_count": 4,
      "id": "ef5bd9e9",
      "metadata": {},
      "outputs": [
        {
          "name": "stdout",
          "output_type": "stream",
          "text": [
            "El numero 101 en decimal es 5\n"
          ]
        }
      ],
      "source": [
        "numero_binari = input(\"Quin numero vols?\")\n",
        "\n",
        "numero_decimal =int(numero_binari, 2)\n",
        "\n",
        "print(\"El numero \" + str(numero_binari) + \" en decimal es \" + str(numero_decimal))\n",
        "\n"
      ]
    },
    {
      "cell_type": "markdown",
      "id": "1P89Tk0QZ5nR",
      "metadata": {
        "id": "1P89Tk0QZ5nR"
      },
      "source": [
        "### Activitat 2\n",
        "Escriviu un programa que generi una llista de nombres aleatoris i calculi el producte de tots els números de la llista. Els números de la llista hauran de complir la següent condició: han de ser nombres imparells entre 0 i 100. A més, el programa haurà de preguntar a l'usuari quants elements ha de tenir la llista (l'usuari introduirà el nombre d'elements usant el teclat) i mostrar un missatge d'error si l'usuari demana generar una llista de més de 50 elements. Feu que el programa mostri la llista generada i el producte dels seus elements."
      ]
    },
    {
      "cell_type": "code",
      "execution_count": 32,
      "id": "948a9aee",
      "metadata": {},
      "outputs": [
        {
          "name": "stdout",
          "output_type": "stream",
          "text": [
            "Llista[55, 61, 5, 51, 23, 31, 79, 51, 41, 61, 49, 81, 83, 7, 47, 79, 7, 47, 1, 35, 25, 61, 1, 51, 69, 17, 19, 61, 25, 9, 5, 37, 11, 83, 57, 5, 53, 15, 57, 81, 89, 93, 85, 15, 21, 35, 77, 25, 43, 95]\n",
            "Producte: 68368177\n"
          ]
        }
      ],
      "source": [
        "import random\n",
        "import numpy\n",
        "llista = []\n",
        "llargada= int(input(\"Quants elements vols a la llista?\"))\n",
        "while llargada > 50:\n",
        "    llargada= int(input(\"El número te que ser igual o inferior a 50\"))\n",
        "for x in range(0,llargada):\n",
        "    numero= random.randint(1,100)\n",
        "    #Generarà numeros fins que surti un imparell\n",
        "    while numero% 2 == 0:\n",
        "        numero= random.randint(1,100)\n",
        "    llista.append(numero)\n",
        "   \n",
        "producte = numpy.prod(llista)\n",
        "print(\"Llista\" + str(llista))\n",
        "print(\"Producte: \" + str(producte))\n"
      ]
    },
    {
      "cell_type": "markdown",
      "id": "dxPX2qMR_CfA",
      "metadata": {
        "id": "dxPX2qMR_CfA"
      },
      "source": [
        "## FUNCIONS"
      ]
    },
    {
      "cell_type": "markdown",
      "id": "-jMWmYm7AMuo",
      "metadata": {
        "id": "-jMWmYm7AMuo"
      },
      "source": [
        "[Phyton Function](https://www.w3schools.com/python/python_while_loops.asp)"
      ]
    },
    {
      "cell_type": "code",
      "execution_count": null,
      "id": "FTQEgT3r_k1e",
      "metadata": {
        "colab": {
          "base_uri": "https://localhost:8080/"
        },
        "id": "FTQEgT3r_k1e",
        "outputId": "957db3d6-46a5-4cbf-b37d-44bcfe1d2f34"
      },
      "outputs": [
        {
          "name": "stdout",
          "output_type": "stream",
          "text": [
            "6\n",
            "0\n",
            "6.0\n"
          ]
        }
      ],
      "source": [
        " # La funció 'suma' es defineix mitjançant la paraula especial 'def' i té dos arguments: 'x' i 'y':\n",
        "def suma(x, y):\n",
        "    # Tornem el valor de la suma\n",
        "    return x + y\n",
        "\n",
        "# En aquest moment, podem anomenar-la amb qualsevol valor:\n",
        "print(suma(2, 4))\n",
        "print(suma(5, -5))\n",
        "print(suma(3.5, 2.5))"
      ]
    },
    {
      "cell_type": "markdown",
      "id": "q-TLR3TsAjHj",
      "metadata": {
        "id": "q-TLR3TsAjHj"
      },
      "source": [
        "\n",
        "### Activitat 1\n",
        "Escriu un programa que defineixi una funció que et calculi la seqüència de Fibonacci de longitud introduïda per l'usuari (el valor per defecte serà 100)"
      ]
    },
    {
      "cell_type": "code",
      "execution_count": 40,
      "id": "a4e30fb7",
      "metadata": {},
      "outputs": [
        {
          "name": "stdout",
          "output_type": "stream",
          "text": [
            "Fibonacci Sequence: \n",
            "0\n",
            "1\n",
            "1\n"
          ]
        }
      ],
      "source": [
        "#Program to generate the Fibonacci Sequence till n\n",
        "n=int(input(\"Enter the value of 'n': \"))\n",
        "#first two terms are first and second\n",
        "first=0\n",
        "second=1\n",
        "sum=0\n",
        "count=1\n",
        "print(\"Fibonacci Sequence: \")\n",
        "# Count should not be more then n.\n",
        "while(count<=n):    \n",
        "  print(sum)\n",
        "  count+=1\n",
        "  first=second\n",
        "  second=sum\n",
        "  sum=first+second\t"
      ]
    },
    {
      "cell_type": "markdown",
      "id": "KTAInI9pCE45",
      "metadata": {
        "id": "KTAInI9pCE45"
      },
      "source": [
        "## Treballar amb fitxers\n"
      ]
    },
    {
      "cell_type": "markdown",
      "id": "t1A4-HKDCSUA",
      "metadata": {
        "id": "t1A4-HKDCSUA"
      },
      "source": [
        "[Phyton File Handling](https://www.w3schools.com/python/python_file_handling.asp)"
      ]
    },
    {
      "cell_type": "code",
      "execution_count": null,
      "id": "z19wn3ftCmgF",
      "metadata": {
        "id": "z19wn3ftCmgF"
      },
      "outputs": [],
      "source": [
        "# Primer de tot, escriurem en un fitxer:\n",
        "import os\n",
        "\n",
        "# Obrim un fitxer de nom 'a_file.txt' per a escriptura (d'aquí la 'w', 'writing').\n",
        "# L'assignem a un objecte per gestionar el fitxer de nom 'out':\n",
        "out = open('a_file.txt', 'w')\n",
        "# Escriurem 10 línies, cadascuna amb un número del 0 al 9.\n",
        "for i in range(10):\n",
        "    # La línia següent escriu al fitxer tot el que posem dins 'out.write()'\n",
        "    # En el nostre cas, és un string del tipus '0\\n', '1\\n', etc. Això ho aconseguim \n",
        "    # utilitzant els wildcards %d i %s.\n",
        "    # %s representa un string o una cadena de caràcters i %d un nombre enter.\n",
        "    # Concatenem en aquest cas un nombre amb un string que es tracta del salt de\n",
        "    # línia, os.linesep, que equival a Linux\n",
        "    # a '\\n':\n",
        "    out.write(f\"Línea {i} \\n\")\n",
        "    \n",
        "out.close()\n",
        "\n"
      ]
    },
    {
      "cell_type": "code",
      "execution_count": null,
      "id": "6RZSiEFmC-7A",
      "metadata": {
        "colab": {
          "base_uri": "https://localhost:8080/"
        },
        "id": "6RZSiEFmC-7A",
        "outputId": "8f4dae68-639a-4efd-c3c3-0e1458ef2600"
      },
      "outputs": [
        {
          "name": "stdout",
          "output_type": "stream",
          "text": [
            "Línea 0 \n",
            "Línea 1 \n",
            "Línea 2 \n",
            "Línea 3 \n",
            "Línea 4 \n",
            "Línea 5 \n",
            "Línea 6 \n",
            "Línea 7 \n",
            "Línea 8 \n",
            "Línea 9 \n"
          ]
        }
      ],
      "source": [
        "# Tercer mètode\n",
        "with open('a_file.txt') as f:\n",
        "    for line in f:\n",
        "        print(line, end = \"\")"
      ]
    },
    {
      "cell_type": "markdown",
      "id": "wgTFrNnYDSsw",
      "metadata": {
        "id": "wgTFrNnYDSsw"
      },
      "source": [
        "\n",
        "### Activitat 1\n",
        "Escriviu una funció que donat un nombre enter positiu, N, generi un fitxer amb el nom output.txt que contindrà N línies, on cada línia haurà de mostrar un nombre consecutiu de lletres A.\n",
        "\n",
        "Per exemple, si N = 4, el fitxer generat haurà de tenir el següent contingut: \n",
        "\n",
        "A\n",
        "\n",
        "AA\n",
        "\n",
        "AAA\n",
        "\n",
        "AAAA"
      ]
    },
    {
      "cell_type": "code",
      "execution_count": 4,
      "id": "be02f2ee",
      "metadata": {},
      "outputs": [],
      "source": [
        "linies=int(input(\"Introdueix un nombre enter\"))\n",
        "while linies < 0:\n",
        "    linies=int(input(\"Introdueix un numero positiu\"))\n",
        "\n",
        "lletra=input(\"Introdueix una lletra\")\n",
        "while len(lletra) > 1 or lletra.isdigit():\n",
        "    linies=input(\"Introdueix una unica lletra\")\n",
        "\n",
        "def generaFitxer(linies,lletra):\n",
        "    file = open(\"output.txt\", \"w\")\n",
        "    for i in range(0,linies):\n",
        "        for x in range(0,i+1):\n",
        "            file.write(lletra)\n",
        "        file.write(\"\\n\")\n",
        "    file.close()\n",
        "\n",
        "generaFitxer(linies,lletra)\n",
        "\n"
      ]
    },
    {
      "cell_type": "markdown",
      "id": "518d4e0f",
      "metadata": {
        "id": "518d4e0f"
      },
      "source": [
        "# ACTIVITATS"
      ]
    },
    {
      "cell_type": "markdown",
      "id": "65103d5f",
      "metadata": {
        "id": "65103d5f"
      },
      "source": [
        "## Calculador Hexadecimal\n",
        "\n",
        "L'exercici següent consisteix a passar un nombre en base 16 (hexadecimal, 0-9/A-F) a base 10 (decimal). Per fer-ho, heu de crear una funció que donat un string que representa un nombre en hexadecimal, per exemple, AE3F, retorni el nombre natural corresponent. \n",
        "\n",
        "En aquest cas el resultat seria 44607. (El programa ha de comprovar que l'entrada és un codi hexadecimal vàlid)\n",
        "\n",
        "Crea també una funció que realizi el càlcul a la inversa"
      ]
    },
    {
      "cell_type": "code",
      "execution_count": 3,
      "id": "qsYDmMKqDy3u",
      "metadata": {
        "id": "qsYDmMKqDy3u"
      },
      "outputs": [
        {
          "name": "stdout",
          "output_type": "stream",
          "text": [
            "668765\n"
          ]
        }
      ],
      "source": [
        "numero=input(\"Introduiex numero hexadecimal\")\n",
        "\n",
        "\n",
        "def hex_to_dec(nombre_hexadecimal):\n",
        "    numeroLlista= list(nombre_hexadecimal)\n",
        "    hex_mapping = {'0': 0, '1': 1, '2': 2, '3': 3, '4': 4, '5': 5,\n",
        "                  '6': 6, '7': 7, '8': 8, '9': 9, 'A': 10, 'B': 11,\n",
        "                  'C': 12, 'D': 13, 'E': 14, 'F': 15}\n",
        "    for i in range(0,len(nombre_hexadecimal)):      \n",
        "        while numeroLlista[i] not in hex_mapping:\n",
        "            nombre_hexadecimal = input(\"Introdueix un numero Hexadecimal\")\n",
        "    print(int(nombre_hexadecimal,16))\n",
        "    \n",
        "\n",
        "hex_to_dec(numero)"
      ]
    },
    {
      "cell_type": "markdown",
      "id": "34780f34",
      "metadata": {
        "id": "34780f34"
      },
      "source": [
        "## Vigenere\n",
        "Al final de l'Edat Mitjana, a França, el diplomàtic francès Blaise de Vigenère va desenvolupar un algoritme per xifrar missatges que ningú va ser capaç de trencar durant aproximadament 250 anys. Aquest algoritme és coneix amb el nom de xifratge de Vigenère.\n",
        "El xifratge de Vigenère consisteix en afegir a cadascuna de les lletres d'un text un desplaçament a partir d'una clau secreta per aconseguir una nova lletra diferent de l'original. \n",
        "\n",
        "Veiem un exemple:\n",
        "Si assignem el número 1 a la primera lletra de l'abecedari, A, 2 a la següent, B, etc., imagineu que tenim el missatge següent: \n",
        "\n",
        "ABC\n",
        "\n",
        "123\n",
        "\n",
        "i la següent clau secreta:\n",
        "\n",
        "DEF\n",
        "\n",
        "456\n",
        "\n",
        "A cada lletra del missatge original apliquem un desplaçament en funció de la mateixa posició dintre de la clau secreta. Per tant, el missatge xifrat quedaria de la següent forma:\n",
        "\n",
        "   E       G       I\n",
        "\n",
        "(1 + 4) (2 + 5) (3 + 6)\n",
        "\n",
        "Escriviu una funció que, donat un missatge i una clau secreta, calculi i retorni el missatge xifrat.Consideracions.\n",
        "Utilitzeu com alfabet d'entrada l'alfabet anglès en majúscules.El valor per defecte de la clau secreta serà DATASCI."
      ]
    },
    {
      "cell_type": "code",
      "execution_count": null,
      "id": "b9408c0b",
      "metadata": {},
      "outputs": [],
      "source": [
        "SS\n",
        "\n"
      ]
    }
  ],
  "metadata": {
    "colab": {
      "collapsed_sections": [
        "518d4e0f",
        "65103d5f",
        "34780f34"
      ],
      "provenance": []
    },
    "kernelspec": {
      "display_name": "Python 3.10.7 64-bit (microsoft store)",
      "language": "python",
      "name": "python3"
    },
    "language_info": {
      "codemirror_mode": {
        "name": "ipython",
        "version": 3
      },
      "file_extension": ".py",
      "mimetype": "text/x-python",
      "name": "python",
      "nbconvert_exporter": "python",
      "pygments_lexer": "ipython3",
      "version": "3.10.7"
    },
    "toc": {
      "base_numbering": 1,
      "nav_menu": {},
      "number_sections": true,
      "sideBar": true,
      "skip_h1_title": false,
      "title_cell": "Table of Contents",
      "title_sidebar": "Contents",
      "toc_cell": false,
      "toc_position": {},
      "toc_section_display": true,
      "toc_window_display": false
    },
    "vscode": {
      "interpreter": {
        "hash": "e68056ac0d9d410a2a552e712fac0c408a82ff41aaf4799122f47cbe0357a83f"
      }
    }
  },
  "nbformat": 4,
  "nbformat_minor": 5
}
