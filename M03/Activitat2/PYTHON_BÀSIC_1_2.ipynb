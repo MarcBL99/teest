{
  "cells": [
    {
      "cell_type": "markdown",
      "id": "2bb3958f",
      "metadata": {
        "id": "2bb3958f"
      },
      "source": [
        "# PYTHON BÀSIC 1/2\n"
      ]
    },
    {
      "cell_type": "markdown",
      "id": "35efa36d",
      "metadata": {
        "id": "35efa36d"
      },
      "source": [
        "## CARACTERÍSTIQUES PYTHON"
      ]
    },
    {
      "cell_type": "markdown",
      "id": "8a522e84",
      "metadata": {
        "id": "8a522e84"
      },
      "source": []
    },
    {
      "cell_type": "markdown",
      "id": "a0379041",
      "metadata": {
        "id": "a0379041"
      },
      "source": [
        "## OPERACIONS BÀSIQUES"
      ]
    },
    {
      "cell_type": "code",
      "execution_count": 3,
      "id": "b4a025c0",
      "metadata": {
        "id": "b4a025c0"
      },
      "outputs": [
        {
          "name": "stdout",
          "output_type": "stream",
          "text": [
            "10\n",
            "0\n",
            "15\n",
            "5.0\n",
            "4\n",
            "16\n"
          ]
        }
      ],
      "source": [
        "# Addition, subtraction\n",
        "print(5 + 5)\n",
        "print(5 - 5)\n",
        "\n",
        "# Multiplication, division, modulo, and exponentiation\n",
        "print(3 * 5)\n",
        "print(10 / 2)\n",
        "print(18 % 7)\n",
        "print(4 ** 2)"
      ]
    },
    {
      "cell_type": "markdown",
      "id": "6c53d56f",
      "metadata": {
        "id": "6c53d56f"
      },
      "source": [
        "### Exercici 1\n",
        "Suposem que tens $100, els quals inverteixes per rebre un 10% anual. Realitza el codi que et calcula quans diners tindras 7 anys més tard."
      ]
    },
    {
      "cell_type": "code",
      "execution_count": 1,
      "id": "ecf7ea89",
      "metadata": {
        "id": "ecf7ea89"
      },
      "outputs": [
        {
          "data": {
            "text/plain": [
              "7000"
            ]
          },
          "execution_count": 1,
          "metadata": {},
          "output_type": "execute_result"
        }
      ],
      "source": [
        "100*(10*7)"
      ]
    },
    {
      "cell_type": "markdown",
      "id": "eb043c37",
      "metadata": {
        "id": "eb043c37"
      },
      "source": [
        "#### Exercici 1.1\n",
        "Realitza l'exercici anterior fent ús de les variables."
      ]
    },
    {
      "cell_type": "code",
      "execution_count": 5,
      "id": "d1dee442",
      "metadata": {
        "id": "d1dee442"
      },
      "outputs": [
        {
          "data": {
            "text/plain": [
              "770.0000000000001"
            ]
          },
          "execution_count": 5,
          "metadata": {},
          "output_type": "execute_result"
        }
      ],
      "source": [
        "saldo = 100\n",
        "interes = 1.1\n",
        "años = 7\n",
        "\n",
        "saldo*interes*años"
      ]
    },
    {
      "cell_type": "markdown",
      "id": "8f3fbd9b",
      "metadata": {
        "id": "8f3fbd9b"
      },
      "source": [
        "## TIPUS DE VARIABLES"
      ]
    },
    {
      "cell_type": "markdown",
      "id": "04c72049",
      "metadata": {
        "id": "04c72049"
      },
      "source": [
        "![Alt text](https://i.imgur.com/6cg2E9Q.png)"
      ]
    },
    {
      "cell_type": "code",
      "execution_count": 17,
      "id": "qjkHT4824Oh_",
      "metadata": {
        "id": "qjkHT4824Oh_"
      },
      "outputs": [
        {
          "name": "stdout",
          "output_type": "stream",
          "text": [
            "Le quedan70\n"
          ]
        }
      ],
      "source": [
        "price= 100\n",
        "userMoney =int(input(\"Introdusca su dinero\"))\n",
        "\n",
        "print(\"Le quedan \" + str(price - userMoney))"
      ]
    },
    {
      "cell_type": "markdown",
      "id": "8be6f06d",
      "metadata": {
        "id": "8be6f06d"
      },
      "source": [
        "### Exercici 2.1\n",
        "Crea un programa que pregunti per separat i guardi en variables diferents:\n",
        "\n",
        "* El nom\n",
        "* Edat\n",
        "\n",
        "Imprimeix cadascuna de les respostes afegint el text:\n",
        "\n",
        "“El teu nom és:”\n",
        "\n",
        "“La teva edat és:”\n",
        "\n",
        "A més, crea una variable en la qual et calculi l'edat que et queda per jubilar-te (agafa com a referència 67 anys). Imprimeix el valor resultant."
      ]
    },
    {
      "cell_type": "code",
      "execution_count": 18,
      "id": "4dda6764",
      "metadata": {
        "id": "4dda6764"
      },
      "outputs": [
        {
          "name": "stdout",
          "output_type": "stream",
          "text": [
            "El teu nom es Marc\n",
            "La teva edat es 23\n",
            "Et queden44 per a poder jubilarte\n"
          ]
        }
      ],
      "source": [
        "nom=input(\"Introdueix el teu nom\")\n",
        "edat = int(input(\"Introdueix la teva edat\"))\n",
        "edatJubilacio= 67\n",
        "\n",
        "print(\"El teu nom es \" + nom)\n",
        "print(\"La teva edat es \" + str(edat))\n",
        "print (\"Et queden \" + str(edatJubilacio - edat) + \" anys per a poder jubilarte\")"
      ]
    },
    {
      "cell_type": "markdown",
      "id": "a417d0c5",
      "metadata": {
        "id": "a417d0c5"
      },
      "source": [
        "### String functions"
      ]
    },
    {
      "cell_type": "code",
      "execution_count": null,
      "id": "d5b210b1",
      "metadata": {
        "id": "d5b210b1"
      },
      "outputs": [],
      "source": [
        "# Python3 program to show the\n",
        "# working of upper() function\n",
        "text = 'geeKs For geEkS'\n",
        "\n",
        "# upper() function to convert\n",
        "# string to upper case\n",
        "print(\"\\nConverted String:\")\n",
        "print(text.upper())\n",
        "\n",
        "# lower() function to convert\n",
        "# string to lower case\n",
        "print(\"\\nConverted String:\")\n",
        "print(text.lower())\n",
        "\n",
        "# converts the first character to\n",
        "# upper case and rest to lower case\n",
        "print(\"\\nConverted String:\")\n",
        "print(text.title())\n",
        "\n",
        "# original string never changes\n",
        "print(\"\\nOriginal String\")\n",
        "print(text)\n"
      ]
    },
    {
      "cell_type": "markdown",
      "id": "2d11e556",
      "metadata": {
        "id": "2d11e556"
      },
      "source": [
        "[More String methods](https://www.geeksforgeeks.org/python-string-methods/)"
      ]
    },
    {
      "cell_type": "markdown",
      "id": "7707910e",
      "metadata": {
        "id": "7707910e"
      },
      "source": [
        "### Lists\n",
        "\n",
        "[Python Lists](https://www.w3schools.com/python/python_lists.asp)"
      ]
    },
    {
      "cell_type": "markdown",
      "id": "d993e677",
      "metadata": {
        "id": "d993e677"
      },
      "source": [
        "#### Exercici 1\n",
        "Crear una llista de 5 elements ( 5 fruites per exemple):\n",
        "* Prova accedir a elements de les teves llistes\n",
        "* Mostra el segon element\n",
        "* accedeix també a l'element d'índex -1\n",
        "* mostra els tres primers elements\n",
        "* Mostra els 4 últims elements\n",
        "* Modifica un element de la teva llista\n",
        "* Afegeix un element en la posició 2 i després afegeix una nova llista de tres elements\n",
        "* Elimina l'últim element, extreu i guarda en una nova variable el primer element."
      ]
    },
    {
      "cell_type": "code",
      "execution_count": 1,
      "id": "59b740f5",
      "metadata": {
        "id": "59b740f5"
      },
      "outputs": [
        {
          "name": "stdout",
          "output_type": "stream",
          "text": [
            "Llista: ['Poma', 'Pera', 'Taronja', 'Llimona', 'Maduixa']\n",
            "Primer element: Pera\n",
            "Ultim element: Maduixa\n",
            "Primers 3 elements: ['Poma', 'Pera', 'Taronja']\n",
            "Ultims 4 elements: ['Pera', 'Taronja', 'Llimona', 'Maduixa']\n",
            "Llista amb primer element modificat: ['Mandarina', 'Pera', 'Taronja', 'Llimona', 'Maduixa']\n",
            "Llista amb element afegit a la segona posicio: ['Mandarina', 'Kiwi', 'Pera', 'Taronja', 'Llimona', 'Maduixa']\n",
            "['Mandarina', 'Kiwi', 'Pera', 'Taronja', 'Llimona', 'Maduixa', ['Melo', 'Sindria', 'David']]\n",
            "['Mandarina', 'Kiwi', 'Pera', 'Taronja', 'Llimona', 'Maduixa']\n",
            "Primer valor de la llista: Mandarina\n"
          ]
        }
      ],
      "source": [
        "fruita = [\"Poma\",\"Pera\",\"Taronja\",\"Llimona\",\"Maduixa\"]\n",
        "print(\"Llista: \"+ str(fruita))\n",
        "print(\"Primer element: \"+ fruita[1])\n",
        "print(\"Ultim element: \" + fruita[-1])\n",
        "print(\"Primers 3 elements: \" + str(fruita[:3]))\n",
        "print(\"Ultims 4 elements: \" + str(fruita[-4:]))\n",
        "\n",
        "fruita[0] = \"Mandarina\"\n",
        "print(\"Llista amb primer element modificat: \" +str(fruita))\n",
        "\n",
        "\n",
        "fruita2=[\"Melo\",\"Sindria\",\"David\"]\n",
        "fruita.insert(1, \"Kiwi\")\n",
        "print(\"Llista amb element afegit a la segona posicio: \" + str(fruita))\n",
        "fruita.append(fruita2)\n",
        "\n",
        "print(fruita)\n",
        "fruita.pop()\n",
        "print(fruita)\n",
        "primerValor= fruita[0]\n",
        "print(\"Primer valor de la llista: \"+ primerValor)"
      ]
    },
    {
      "cell_type": "markdown",
      "id": "752f9a6c",
      "metadata": {
        "id": "752f9a6c"
      },
      "source": [
        "#### Exerici 2\n",
        "Cerca informació, aplica les següents funcionalitats i explica breument, fent una demostració la seva utilitat, sobre la llista creada anteriorment:\n",
        "* Len\n",
        "* Search\n",
        "* Reverse\n",
        "* Sort"
      ]
    },
    {
      "cell_type": "markdown",
      "id": "d301ac15",
      "metadata": {
        "id": "d301ac15"
      },
      "source": [
        "### Dictionaries\n",
        "\n",
        "[Python Dictionaries](https://www.w3schools.com/python/python_dictionaries.asp)"
      ]
    },
    {
      "cell_type": "markdown",
      "id": "8258d83b",
      "metadata": {
        "id": "8258d83b"
      },
      "source": [
        "#### Exercici 1\n",
        "\n",
        "Escriviu un programa en què es defineixin els preus d'una fruiteria utilitzant un _diccionari_. Heu d'incloure, com a mínim, 5 tipus de fruita diferents. Per cada fruita, caldrà indicar el preu per kilo.\n",
        "\n",
        "Per exemple: Maduixes de Huelva amb preu 5.9, Maduixes del Maresme amb preu 10, Poma amb preu 3.5, etc.\n",
        "\n",
        "Mostreu el preu per kilo de qualsevol de les fruites que heu inclòs al diccionari, utilitzant algun del mètodes d'accès a elements d'un diccionari.\n",
        "\n",
        "Posteriorment afegeix el nou element Pera amb preu 3.4, elimina l'element Maduixes del Maresme i Maduixes de Huelva i crea'n un que sigui maduixa amb el preu que sigui la mitja dels dos anteriors."
      ]
    },
    {
      "cell_type": "code",
      "execution_count": 32,
      "id": "9dfc61f3",
      "metadata": {
        "id": "9dfc61f3"
      },
      "outputs": [
        {
          "name": "stdout",
          "output_type": "stream",
          "text": [
            "{'Maduixes Huelva': 5.9, 'Maduixes Maresme': 10, 'Poma': 3.5, 'Pera': 3.4}\n",
            "{'Poma': 3.5, 'Pera': 3.4, 'Maduixes': 7.95}\n"
          ]
        }
      ],
      "source": [
        "fruites = {\n",
        "  \"Maduixes Huelva\": 5.9,\n",
        "  \"Maduixes Maresme\": 10,\n",
        "  \"Poma\": 3.5\n",
        "}\n",
        "fruites[\"Pera\"] = 3.4\n",
        "print(fruites)\n",
        "fruites[\"Maduixes\"] = (fruites[\"Maduixes Huelva\"] + fruites[\"Maduixes Maresme\"]) / 2\n",
        "del fruites[\"Maduixes Huelva\"]\n",
        "del fruites[\"Maduixes Maresme\"]\n",
        "\n",
        "print(fruites)"
      ]
    },
    {
      "cell_type": "markdown",
      "id": "518d4e0f",
      "metadata": {
        "id": "518d4e0f"
      },
      "source": [
        "# ACTIVITATS"
      ]
    },
    {
      "cell_type": "markdown",
      "id": "65103d5f",
      "metadata": {
        "id": "65103d5f"
      },
      "source": [
        "## Exercici càlcul de pintura\n",
        "\n",
        "Tens una habitació amb una finestra, vols pintar-la i necessites saber els m2 de superfície a pintar (parets i sostre). Realitza un programa que et realitzi les preguntes corresponents i et doni com a resultat els m2 que hauràs de pintar."
      ]
    },
    {
      "cell_type": "code",
      "execution_count": 33,
      "id": "0436c472",
      "metadata": {
        "id": "0436c472"
      },
      "outputs": [
        {
          "name": "stdout",
          "output_type": "stream",
          "text": [
            "Hauras de pintar200m2 en total\n"
          ]
        }
      ],
      "source": [
        "paret= int(input(\"Quans metres de paret has de pintar\"))\n",
        "sostre= int(input(\"Quans metres de sostre has de pintar?\"))\n",
        "total_paret= paret * 4\n",
        "print(\"Hauras de pintar \" + str(total_paret * sostre) + \"m2 en total\")"
      ]
    },
    {
      "cell_type": "markdown",
      "id": "34780f34",
      "metadata": {
        "id": "34780f34"
      },
      "source": [
        " ## Treball amb strings\n",
        "Crea una variable amb el text quixot. Fer ùs de les funcions per donar resposta a les preguntes següents:\n",
        "* Comptar quantes vegades apareix una paraula.\n",
        "* Substituir “lantejas” per “lentejass”\n",
        "* Buscar “Quijana”\n",
        "* Convertir el text a majúscules"
      ]
    },
    {
      "cell_type": "code",
      "execution_count": 36,
      "id": "11b75589",
      "metadata": {
        "id": "11b75589"
      },
      "outputs": [],
      "source": [
        "text_quixot = 'En un lugar de la Mancha, de cuyo nombre no quiero acordarme, no hace mucho tiempo que vivía un hidalgo de los de lanza en astillero, adarga antigua, rocín flaco y galgo corredor. Una olla de algo más vaca que carnero, salpicón las más noches, duelos y quebrantos los sábados, lantejas los viernes, algún palomino de añadidura los domingos, consumían las tres partes de su hacienda. El resto della concluían sayo de velarte, calzas de velludo para las fiestas, con sus pantuflos de lo mesmo, y los días de entresemana se honraba con su vellorí de lo más fino. Tenía en su casa una ama que pasaba de los cuarenta, y una sobrina que no llegaba a los veinte, y un mozo de campo y plaza, que así ensillaba el rocín como tomaba la podadera. Frisaba la edad de nuestro hidalgo con los cincuenta años; era de complexión recia, seco de carnes, enjuto de rostro, gran madrugador y amigo de la caza. Quieren decir que tenía el sobrenombre de Quijada, o Quesada, que en esto hay alguna diferencia en los autores que deste caso escriben; aunque por conjeturas verosímiles se deja entender que se llamaba Quijana. Pero esto importa poco a nuestro cuento: basta que en la narración de él no se salga un punto de la verdad.'"
      ]
    },
    {
      "cell_type": "code",
      "execution_count": 46,
      "id": "2e1bf860",
      "metadata": {
        "id": "2e1bf860"
      },
      "outputs": [
        {
          "name": "stdout",
          "output_type": "stream",
          "text": [
            "9\n",
            "En un lugar de la Mancha, de cuyo nombre no quiero acordarme, no hace mucho tiempo que vivía un hidalgo de los de lanza en astillero, adarga antigua, rocín flaco y galgo corredor. Una olla de algo más vaca que carnero, salpicón las más noches, duelos y quebrantos los sábados, lentejass los viernes, algún palomino de añadidura los domingos, consumían las tres partes de su hacienda. El resto della concluían sayo de velarte, calzas de velludo para las fiestas, con sus pantuflos de lo mesmo, y los días de entresemana se honraba con su vellorí de lo más fino. Tenía en su casa una ama que pasaba de los cuarenta, y una sobrina que no llegaba a los veinte, y un mozo de campo y plaza, que así ensillaba el rocín como tomaba la podadera. Frisaba la edad de nuestro hidalgo con los cincuenta años; era de complexión recia, seco de carnes, enjuto de rostro, gran madrugador y amigo de la caza. Quieren decir que tenía el sobrenombre de Quijada, o Quesada, que en esto hay alguna diferencia en los autores que deste caso escriben; aunque por conjeturas verosímiles se deja entender que se llamaba Quijana. Pero esto importa poco a nuestro cuento: basta que en la narración de él no se salga un punto de la verdad.\n",
            "-1\n",
            "EN UN LUGAR DE LA MANCHA, DE CUYO NOMBRE NO QUIERO ACORDARME, NO HACE MUCHO TIEMPO QUE VIVÍA UN HIDALGO DE LOS DE LANZA EN ASTILLERO, ADARGA ANTIGUA, ROCÍN FLACO Y GALGO CORREDOR. UNA OLLA DE ALGO MÁS VACA QUE CARNERO, SALPICÓN LAS MÁS NOCHES, DUELOS Y QUEBRANTOS LOS SÁBADOS, LANTEJAS LOS VIERNES, ALGÚN PALOMINO DE AÑADIDURA LOS DOMINGOS, CONSUMÍAN LAS TRES PARTES DE SU HACIENDA. EL RESTO DELLA CONCLUÍAN SAYO DE VELARTE, CALZAS DE VELLUDO PARA LAS FIESTAS, CON SUS PANTUFLOS DE LO MESMO, Y LOS DÍAS DE ENTRESEMANA SE HONRABA CON SU VELLORÍ DE LO MÁS FINO. TENÍA EN SU CASA UNA AMA QUE PASABA DE LOS CUARENTA, Y UNA SOBRINA QUE NO LLEGABA A LOS VEINTE, Y UN MOZO DE CAMPO Y PLAZA, QUE ASÍ ENSILLABA EL ROCÍN COMO TOMABA LA PODADERA. FRISABA LA EDAD DE NUESTRO HIDALGO CON LOS CINCUENTA AÑOS; ERA DE COMPLEXIÓN RECIA, SECO DE CARNES, ENJUTO DE ROSTRO, GRAN MADRUGADOR Y AMIGO DE LA CAZA. QUIEREN DECIR QUE TENÍA EL SOBRENOMBRE DE QUIJADA, O QUESADA, QUE EN ESTO HAY ALGUNA DIFERENCIA EN LOS AUTORES QUE DESTE CASO ESCRIBEN; AUNQUE POR CONJETURAS VEROSÍMILES SE DEJA ENTENDER QUE SE LLAMABA QUIJANA. PERO ESTO IMPORTA POCO A NUESTRO CUENTO: BASTA QUE EN LA NARRACIÓN DE ÉL NO SE SALGA UN PUNTO DE LA VERDAD.\n"
          ]
        }
      ],
      "source": [
        "print(text_quixot.count(\"no\"))\n",
        "print(text_quixot.replace(\"lantejas\",\"lentejass\"))\n",
        "print(text_quixot.find(\"Qijana\"))\n",
        "print(text_quixot.upper())\n"
      ]
    },
    {
      "cell_type": "markdown",
      "id": "12d2346a",
      "metadata": {
        "id": "12d2346a"
      },
      "source": [
        "## LListes\n",
        "Per a guanyar el premi major en una loteria en particular, un ha d'encertar els 6 números\n",
        "en el seu bitllet als 6 números entre 1 i 49 que són sortejats per la loteria\n",
        "organitzador. Escrigui un programa que generi una selecció aleatòria de 6 números.\n",
        "\n",
        "Asseguri's que els 6 números seleccionats no continguin duplicats.\n",
        "Mostra els números en ordre ascendent. "
      ]
    },
    {
      "cell_type": "code",
      "execution_count": 10,
      "id": "725a5ebf",
      "metadata": {
        "id": "725a5ebf"
      },
      "outputs": [
        {
          "name": "stdout",
          "output_type": "stream",
          "text": [
            "Llista sense ordenar: [45, 7, 33, 42, 26, 47]\n",
            "Llista ordenada [7, 26, 33, 42, 45, 47]\n"
          ]
        }
      ],
      "source": [
        "import random\n",
        "billet = []\n",
        "billet =random.sample(range(1,49),6)\n",
        "print(\"Llista sense ordenar: \" + str(billet))\n",
        "billet.sort()\n",
        "print(\"Llista ordenada \" +str(billet))"
      ]
    }
  ],
  "metadata": {
    "colab": {
      "provenance": []
    },
    "kernelspec": {
      "display_name": "Python 3.10.7 64-bit (microsoft store)",
      "language": "python",
      "name": "python3"
    },
    "language_info": {
      "codemirror_mode": {
        "name": "ipython",
        "version": 3
      },
      "file_extension": ".py",
      "mimetype": "text/x-python",
      "name": "python",
      "nbconvert_exporter": "python",
      "pygments_lexer": "ipython3",
      "version": "3.10.7"
    },
    "toc": {
      "base_numbering": 1,
      "nav_menu": {},
      "number_sections": true,
      "sideBar": true,
      "skip_h1_title": false,
      "title_cell": "Table of Contents",
      "title_sidebar": "Contents",
      "toc_cell": false,
      "toc_position": {},
      "toc_section_display": true,
      "toc_window_display": false
    },
    "vscode": {
      "interpreter": {
        "hash": "e68056ac0d9d410a2a552e712fac0c408a82ff41aaf4799122f47cbe0357a83f"
      }
    }
  },
  "nbformat": 4,
  "nbformat_minor": 5
}
